{
 "cells": [
  {
   "cell_type": "code",
   "execution_count": 1,
   "metadata": {},
   "outputs": [
    {
     "name": "stdout",
     "output_type": "stream",
     "text": [
      "6.5.1\n"
     ]
    }
   ],
   "source": [
    "# Installing the binarytree package in terminal\n",
    "# pip install binarytree\n",
    "import binarytree\n",
    "\n",
    "print(binarytree.__version__) # 6.5.1"
   ]
  },
  {
   "cell_type": "code",
   "execution_count": 3,
   "metadata": {},
   "outputs": [
    {
     "name": "stdout",
     "output_type": "stream",
     "text": [
      "Binary tree is created:- \n",
      " \n",
      "  6\n",
      " / \\\n",
      "2   10\n",
      "\n"
     ]
    }
   ],
   "source": [
    "# Creatting a node\n",
    "from binarytree import Node\n",
    "\n",
    "\n",
    "root = Node(6)\n",
    "root.left = Node(2)\n",
    "root.right = Node(10)\n",
    "\n",
    "print(\"Binary tree is created:- \\n\", root)"
   ]
  },
  {
   "cell_type": "code",
   "execution_count": 9,
   "metadata": {},
   "outputs": [
    {
     "name": "stdout",
     "output_type": "stream",
     "text": [
      "Properties of the binary tree:- \n",
      " {'height': 1, 'size': 3, 'is_max_heap': False, 'is_min_heap': False, 'is_perfect': True, 'is_strict': True, 'is_complete': True, 'leaf_count': 2, 'min_node_value': 2, 'max_node_value': 10, 'min_leaf_depth': 1, 'max_leaf_depth': 1, 'is_balanced': True, 'is_bst': True, 'is_symmetric': False}\n",
      "Preorder traversal:- \n",
      " [Node(6), Node(2), Node(10)]\n",
      "Inorder traversal:- \n",
      " [Node(2), Node(6), Node(10)]\n",
      "Postorder traversal:- \n",
      " [Node(2), Node(10), Node(6)]\n",
      "Height of the binary tree:- \n",
      " 1\n",
      "Size of the binary tree:- \n",
      " 3\n",
      "Binary tree in list format:- \n",
      " [Node(6), Node(2), Node(10)]\n"
     ]
    }
   ],
   "source": [
    "print(\"Properties of the binary tree:- \\n\", root.properties)\n",
    "print(\"Preorder traversal:- \\n\", root.preorder)\n",
    "print(\"Inorder traversal:- \\n\", root.inorder)\n",
    "print(\"Postorder traversal:- \\n\", root.postorder)\n",
    "print(\"Height of the binary tree:- \\n\", root.height)\n",
    "print(\"Size of the binary tree:- \\n\", root.size)\n",
    "print(\"Binary tree in list format:- \\n\", list(root))"
   ]
  },
  {
   "cell_type": "code",
   "execution_count": 11,
   "metadata": {},
   "outputs": [
    {
     "name": "stdout",
     "output_type": "stream",
     "text": [
      "Binary tree build from list:- \n",
      " \n",
      "    __4\n",
      "   /   \\\n",
      "  3     5\n",
      " / \\\n",
      "2   7\n",
      "\n",
      "List of the nodes/values from binary tree:-  [4, 3, 5, 2, 7]\n"
     ]
    }
   ],
   "source": [
    "# Creating binary tree from the given list\n",
    "from binarytree import build\n",
    "\n",
    "nodes = [4, 3, 5, 2, 7]\n",
    "binary_tree = build(nodes)\n",
    "print(\"Binary tree build from list:- \\n\", binary_tree)\n",
    "print(\"List of the nodes/values from binary tree:- \", binary_tree.values)"
   ]
  },
  {
   "cell_type": "code",
   "execution_count": 12,
   "metadata": {},
   "outputs": [
    {
     "name": "stdout",
     "output_type": "stream",
     "text": [
      "Binary tree of any height:- \n",
      " \n",
      "         _____9____\n",
      "        /          \\\n",
      "     __8            11\n",
      "    /   \\          /\n",
      "  _6     10       4\n",
      " /  \\      \\     /\n",
      "14   0      5   1\n",
      "\n"
     ]
    }
   ],
   "source": [
    "# Creating a binary tree of any height\n",
    "from binarytree import tree\n",
    "\n",
    "root = tree()\n",
    "print(\"Binary tree of any height:- \\n\", root)"
   ]
  },
  {
   "cell_type": "code",
   "execution_count": 14,
   "metadata": {},
   "outputs": [
    {
     "name": "stdout",
     "output_type": "stream",
     "text": [
      "Binary tree of height 3 is:- \n",
      " \n",
      "  __5\n",
      " /   \\\n",
      "4     2\n",
      " \\\n",
      "  3\n",
      "\n"
     ]
    }
   ],
   "source": [
    "# Binary tree of given height:-\n",
    "from binarytree import tree\n",
    "\n",
    "root = tree(height = 2)\n",
    "print(\"Binary tree of height 2 is:- \\n\", root)"
   ]
  },
  {
   "cell_type": "code",
   "execution_count": 15,
   "metadata": {},
   "outputs": [
    {
     "name": "stdout",
     "output_type": "stream",
     "text": [
      "Binary tree with height 2 and is_perfect True is:- \n",
      " \n",
      "    __0__\n",
      "   /     \\\n",
      "  3       2\n",
      " / \\     / \\\n",
      "5   4   6   1\n",
      "\n"
     ]
    }
   ],
   "source": [
    "# Creating a random perfect binary tree of the given height:-\n",
    "root = tree(height = 2, is_perfect=True)\n",
    "print(\"Binary tree with height 2 and is_perfect True is:- \\n\", root)"
   ]
  },
  {
   "cell_type": "code",
   "execution_count": 16,
   "metadata": {},
   "outputs": [
    {
     "name": "stdout",
     "output_type": "stream",
     "text": [
      "Random max-heap :- \n",
      " \n",
      "         _______14______\n",
      "        /               \\\n",
      "    ___11__            __13__\n",
      "   /       \\          /      \\\n",
      "  10        3        9        12\n",
      " /  \\      / \\      / \\      /  \\\n",
      "4    7    2   1    5   0    8    6\n",
      "\n",
      "Max-heap with is_prefect = True, height = 2, is_max = False:- \n",
      " \n",
      "    __0__\n",
      "   /     \\\n",
      "  2       1\n",
      " / \\     / \\\n",
      "6   3   4   5\n",
      "\n"
     ]
    }
   ],
   "source": [
    "# Create a random max-heap tree\n",
    "from binarytree import heap\n",
    "root = heap()\n",
    "print(\"Random max-heap :- \\n\", root)\n",
    "root = heap(height = 2, is_perfect = True, is_max = False)\n",
    "print(\"Max-heap with is_prefect = True, height = 2, is_max = False:- \\n\", root)"
   ]
  }
 ],
 "metadata": {
  "kernelspec": {
   "display_name": "Python 3",
   "language": "python",
   "name": "python3"
  },
  "language_info": {
   "codemirror_mode": {
    "name": "ipython",
    "version": 3
   },
   "file_extension": ".py",
   "mimetype": "text/x-python",
   "name": "python",
   "nbconvert_exporter": "python",
   "pygments_lexer": "ipython3",
   "version": "3.11.2"
  },
  "orig_nbformat": 4
 },
 "nbformat": 4,
 "nbformat_minor": 2
}
